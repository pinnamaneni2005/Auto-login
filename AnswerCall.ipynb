{
 "cells": [
  {
   "cell_type": "code",
   "execution_count": null,
   "metadata": {},
   "outputs": [],
   "source": [
    "import pyautogui\n",
    "import time\n",
    "import pyaudio\n",
    "import wave\n",
    "import schedule\n",
    "\n",
    "def play_file(fname):\n",
    "    # create an audio object\n",
    "    wf = wave.open(fname, 'rb')\n",
    "    p = pyaudio.PyAudio()\n",
    "    chunk = 1024\n",
    "\n",
    "    # open stream based on the wave object which has been input.\n",
    "    stream = p.open(format=p.get_format_from_width(wf.getsampwidth()),\n",
    "                channels=wf.getnchannels(),\n",
    "                rate=wf.getframerate(),\n",
    "                output=True)\n",
    "\n",
    "    # read data (based on the chunk size)\n",
    "    data = wf.readframes(chunk)\n",
    "\n",
    "    # play stream (looping from beginning of file to the end)\n",
    "    while len(data) > 0:\n",
    "        # writing to the stream is what *actually* plays the sound.\n",
    "        stream.write(data)\n",
    "        data = wf.readframes(chunk)\n",
    "\n",
    "        # cleanup stuff.\n",
    "    stream.close()\n",
    "    p.terminate()\n",
    "\n",
    "def anscall():\n",
    "    \n",
    "    pyautogui.FAILSAFE=False\n",
    "    if pyautogui.pixelMatchesColor(1733, 965, (36, 171,  49), tolerance=20):\n",
    "        time.sleep(10)\n",
    "        if pyautogui.pixelMatchesColor(1733, 965, (36, 171,  49), tolerance=20):\n",
    "            pyautogui.click(1733, 965)\n",
    "        \n",
    "            play_file('CallAnswer.wav')\n",
    "            time.sleep(20)\n",
    "            \n",
    "            #im = pyautogui.screenshot()\n",
    "            #print(im.getpixel((953, 858)))\n",
    "            \"\"\"for i in range(10):\n",
    "                x, y = pyautogui.position()\n",
    "                positionStr = 'X: ' + str(x).rjust(4) + ' Y: ' + str(y).rjust(4)\n",
    "                pixelColor = pyautogui.screenshot().getpixel((x, y))\n",
    "                positionStr += ' RGB: (' + str(pixelColor[0]).rjust(3)\n",
    "                positionStr += ', ' + str(pixelColor[1]).rjust(3)\n",
    "                positionStr += ', ' + str(pixelColor[2]).rjust(3) + ')'\n",
    "                print(positionStr)\n",
    "                time.sleep(5)\"\"\"\n",
    "            \n",
    "            if pyautogui.pixelMatchesColor(953,  858, (255, 92, 74), tolerance=20):\n",
    "                pyautogui.click(953,  858)\n",
    "    else:\n",
    "        exit()\n",
    "        \n",
    "schedule.clear()\n",
    "schedule.every(1).seconds.do(anscall)\n",
    "while True:\n",
    "  \n",
    "    # Checks whether a scheduled task  \n",
    "    # is pending to run or not \n",
    "    schedule.run_pending()\n",
    "    time.sleep(1)"
   ]
  },
  {
   "cell_type": "code",
   "execution_count": 3,
   "metadata": {},
   "outputs": [
    {
     "name": "stdout",
     "output_type": "stream",
     "text": [
      "X:  685 Y:  871\n",
      "X:  724 Y:  691\n",
      "X:    0 Y:    0\n",
      "X:    0 Y:    0\n",
      "X:    0 Y:    0\n",
      "X:    0 Y:    0\n",
      "X:    0 Y:    0\n",
      "X:  495 Y:    0\n",
      "X:  687 Y:  777\n"
     ]
    },
    {
     "ename": "KeyboardInterrupt",
     "evalue": "",
     "output_type": "error",
     "traceback": [
      "\u001b[1;31m---------------------------------------------------------------------------\u001b[0m",
      "\u001b[1;31mKeyboardInterrupt\u001b[0m                         Traceback (most recent call last)",
      "\u001b[1;32m<ipython-input-3-c7ca6801c3f8>\u001b[0m in \u001b[0;36m<module>\u001b[1;34m\u001b[0m\n\u001b[0;32m     10\u001b[0m     \u001b[1;31m#positionStr += ', ' + str(pixelColor[2]).rjust(3) + ')'\u001b[0m\u001b[1;33m\u001b[0m\u001b[1;33m\u001b[0m\u001b[1;33m\u001b[0m\u001b[0m\n\u001b[0;32m     11\u001b[0m     \u001b[0mprint\u001b[0m\u001b[1;33m(\u001b[0m\u001b[0mpositionStr\u001b[0m\u001b[1;33m)\u001b[0m\u001b[1;33m\u001b[0m\u001b[1;33m\u001b[0m\u001b[0m\n\u001b[1;32m---> 12\u001b[1;33m     \u001b[0mtime\u001b[0m\u001b[1;33m.\u001b[0m\u001b[0msleep\u001b[0m\u001b[1;33m(\u001b[0m\u001b[1;36m5\u001b[0m\u001b[1;33m)\u001b[0m\u001b[1;33m\u001b[0m\u001b[1;33m\u001b[0m\u001b[0m\n\u001b[0m",
      "\u001b[1;31mKeyboardInterrupt\u001b[0m: "
     ]
    }
   ],
   "source": [
    "import pyautogui\n",
    "import time\n",
    "for i in range(10):\n",
    "    x, y = pyautogui.position()\n",
    "    positionStr = 'X: ' + str(x).rjust(4) + ' Y: ' + str(y).rjust(4)\n",
    "    positionStr = 'X: ' + str(x).rjust(4) + ' Y: ' + str(y).rjust(4)\n",
    "    pixelColor = pyautogui.screenshot().getpixel((x, y))\n",
    "    positionStr += ' RGB: (' + str(pixelColor[0]).rjust(3)\n",
    "    positionStr += ', ' + str(pixelColor[1]).rjust(3)\n",
    "    positionStr += ', ' + str(pixelColor[2]).rjust(3) + ')'\n",
    "    print(positionStr)\n",
    "    time.sleep(5)"
   ]
  },
  {
   "cell_type": "code",
   "execution_count": 2,
   "metadata": {},
   "outputs": [
    {
     "name": "stdout",
     "output_type": "stream",
     "text": [
      "Point(x=426, y=506)\n"
     ]
    },
    {
     "ename": "NameError",
     "evalue": "name 'time' is not defined",
     "output_type": "error",
     "traceback": [
      "\u001b[1;31m---------------------------------------------------------------------------\u001b[0m",
      "\u001b[1;31mNameError\u001b[0m                                 Traceback (most recent call last)",
      "\u001b[1;32m<ipython-input-2-bd95746ecf18>\u001b[0m in \u001b[0;36m<module>\u001b[1;34m\u001b[0m\n\u001b[0;32m      2\u001b[0m \u001b[1;32mfor\u001b[0m \u001b[0mi\u001b[0m \u001b[1;32min\u001b[0m \u001b[0mrange\u001b[0m\u001b[1;33m(\u001b[0m\u001b[1;36m10\u001b[0m\u001b[1;33m)\u001b[0m\u001b[1;33m:\u001b[0m\u001b[1;33m\u001b[0m\u001b[1;33m\u001b[0m\u001b[0m\n\u001b[0;32m      3\u001b[0m     \u001b[0mprint\u001b[0m\u001b[1;33m(\u001b[0m\u001b[0mpyautogui\u001b[0m\u001b[1;33m.\u001b[0m\u001b[0mposition\u001b[0m\u001b[1;33m(\u001b[0m\u001b[1;33m)\u001b[0m\u001b[1;33m)\u001b[0m\u001b[1;33m\u001b[0m\u001b[1;33m\u001b[0m\u001b[0m\n\u001b[1;32m----> 4\u001b[1;33m     \u001b[0mtime\u001b[0m\u001b[1;33m.\u001b[0m\u001b[0msleep\u001b[0m\u001b[1;33m(\u001b[0m\u001b[1;36m5\u001b[0m\u001b[1;33m)\u001b[0m\u001b[1;33m\u001b[0m\u001b[1;33m\u001b[0m\u001b[0m\n\u001b[0m",
      "\u001b[1;31mNameError\u001b[0m: name 'time' is not defined"
     ]
    }
   ],
   "source": [
    "import pyautogui\n",
    "for i in range(10):\n",
    "    print(pyautogui.position())\n",
    "    time.sleep(5)"
   ]
  },
  {
   "cell_type": "code",
   "execution_count": 8,
   "metadata": {},
   "outputs": [],
   "source": [
    "import winsound\n",
    "winsound.PlaySound('CallAnswer.wav', True)"
   ]
  },
  {
   "cell_type": "code",
   "execution_count": 18,
   "metadata": {},
   "outputs": [
    {
     "ename": "TypeError",
     "evalue": "descriptor 'play' of 'Sound' object needs an argument",
     "output_type": "error",
     "traceback": [
      "\u001b[1;31m---------------------------------------------------------------------------\u001b[0m",
      "\u001b[1;31mTypeError\u001b[0m                                 Traceback (most recent call last)",
      "\u001b[1;32m<ipython-input-18-3b7be2dba042>\u001b[0m in \u001b[0;36m<module>\u001b[1;34m\u001b[0m\n\u001b[0;32m      8\u001b[0m     \u001b[0mmixer\u001b[0m\u001b[1;33m.\u001b[0m\u001b[0mSound\u001b[0m\u001b[1;33m.\u001b[0m\u001b[0mset_volume\u001b[0m\u001b[1;33m(\u001b[0m\u001b[1;36m1.0\u001b[0m\u001b[1;33m)\u001b[0m\u001b[1;33m\u001b[0m\u001b[1;33m\u001b[0m\u001b[0m\n\u001b[0;32m      9\u001b[0m \u001b[1;33m\u001b[0m\u001b[0m\n\u001b[1;32m---> 10\u001b[1;33m \u001b[0mplay_mp3\u001b[0m\u001b[1;33m(\u001b[0m\u001b[1;34m'CallAnswer.wav'\u001b[0m\u001b[1;33m)\u001b[0m\u001b[1;33m\u001b[0m\u001b[1;33m\u001b[0m\u001b[0m\n\u001b[0m",
      "\u001b[1;32m<ipython-input-18-3b7be2dba042>\u001b[0m in \u001b[0;36mplay_mp3\u001b[1;34m(mp3filename)\u001b[0m\n\u001b[0;32m      5\u001b[0m     \u001b[0mmixer\u001b[0m\u001b[1;33m.\u001b[0m\u001b[0mmusic\u001b[0m\u001b[1;33m.\u001b[0m\u001b[0mload\u001b[0m\u001b[1;33m(\u001b[0m\u001b[0mmp3filename\u001b[0m\u001b[1;33m)\u001b[0m\u001b[1;33m\u001b[0m\u001b[1;33m\u001b[0m\u001b[0m\n\u001b[0;32m      6\u001b[0m \u001b[1;33m\u001b[0m\u001b[0m\n\u001b[1;32m----> 7\u001b[1;33m     \u001b[0mmixer\u001b[0m\u001b[1;33m.\u001b[0m\u001b[0mSound\u001b[0m\u001b[1;33m.\u001b[0m\u001b[0mplay\u001b[0m\u001b[1;33m(\u001b[0m\u001b[1;33m)\u001b[0m\u001b[1;33m\u001b[0m\u001b[1;33m\u001b[0m\u001b[0m\n\u001b[0m\u001b[0;32m      8\u001b[0m     \u001b[0mmixer\u001b[0m\u001b[1;33m.\u001b[0m\u001b[0mSound\u001b[0m\u001b[1;33m.\u001b[0m\u001b[0mset_volume\u001b[0m\u001b[1;33m(\u001b[0m\u001b[1;36m1.0\u001b[0m\u001b[1;33m)\u001b[0m\u001b[1;33m\u001b[0m\u001b[1;33m\u001b[0m\u001b[0m\n\u001b[0;32m      9\u001b[0m \u001b[1;33m\u001b[0m\u001b[0m\n",
      "\u001b[1;31mTypeError\u001b[0m: descriptor 'play' of 'Sound' object needs an argument"
     ]
    }
   ],
   "source": [
    "from pygame import mixer\n",
    " \n",
    "def play_mp3(mp3filename):\n",
    "    mixer.init()\n",
    "    mixer.music.load(mp3filename)\n",
    "    \n",
    "    mixer.Sound.play()\n",
    "    mixer.Sound.set_volume(1.0)\n",
    "    \n",
    "play_mp3('CallAnswer.wav')"
   ]
  },
  {
   "cell_type": "code",
   "execution_count": 1,
   "metadata": {},
   "outputs": [
    {
     "name": "stdout",
     "output_type": "stream",
     "text": [
      "pygame 1.9.6\n",
      "Hello from the pygame community. https://www.pygame.org/contribute.html\n"
     ]
    }
   ],
   "source": [
    "from pygame import mixer\n",
    "\n",
    "mixer.init()\n",
    "#mixer.quit()\n",
    "#time.sleep(2)\n",
    "mixer.pre_init(devicename='CABLE Input (VB-Audio Virtual Cable)')\n",
    "sound = mixer.Sound(\"CallAnswer.wav\")\n",
    "sound.set_volume(1.0)\n",
    "channel = sound.play()      # Sound plays at full volume by default"
   ]
  },
  {
   "cell_type": "code",
   "execution_count": 8,
   "metadata": {},
   "outputs": [],
   "source": [
    "import pyaudio\n",
    "import wave\n",
    "\n",
    "def play_file(fname):\n",
    "    # create an audio object\n",
    "    wf = wave.open(fname, 'rb')\n",
    "    p = pyaudio.PyAudio()\n",
    "    chunk = 1024\n",
    "\n",
    "    # open stream based on the wave object which has been input.\n",
    "    stream = p.open(format=p.get_format_from_width(wf.getsampwidth()),\n",
    "                channels=wf.getnchannels(),\n",
    "                rate=wf.getframerate(),\n",
    "                output=True)\n",
    "\n",
    "    # read data (based on the chunk size)\n",
    "    data = wf.readframes(chunk)\n",
    "\n",
    "    # play stream (looping from beginning of file to the end)\n",
    "    while len(data) > 0:\n",
    "        # writing to the stream is what *actually* plays the sound.\n",
    "        stream.write(data)\n",
    "        data = wf.readframes(chunk)\n",
    "\n",
    "        # cleanup stuff.\n",
    "    stream.close()\n",
    "    p.terminate()\n",
    "    \n",
    "play_file('CallAnswer.wav')"
   ]
  },
  {
   "cell_type": "code",
   "execution_count": 1,
   "metadata": {},
   "outputs": [
    {
     "ename": "KeyboardInterrupt",
     "evalue": "",
     "output_type": "error",
     "traceback": [
      "\u001b[1;31m---------------------------------------------------------------------------\u001b[0m",
      "\u001b[1;31mKeyboardInterrupt\u001b[0m                         Traceback (most recent call last)",
      "\u001b[1;32m<ipython-input-1-5e55ac2717d2>\u001b[0m in \u001b[0;36m<module>\u001b[1;34m\u001b[0m\n\u001b[0;32m     24\u001b[0m     \u001b[1;31m# is pending to run or not\u001b[0m\u001b[1;33m\u001b[0m\u001b[1;33m\u001b[0m\u001b[1;33m\u001b[0m\u001b[0m\n\u001b[0;32m     25\u001b[0m     \u001b[0mschedule\u001b[0m\u001b[1;33m.\u001b[0m\u001b[0mrun_pending\u001b[0m\u001b[1;33m(\u001b[0m\u001b[1;33m)\u001b[0m\u001b[1;33m\u001b[0m\u001b[1;33m\u001b[0m\u001b[0m\n\u001b[1;32m---> 26\u001b[1;33m     \u001b[0mtime\u001b[0m\u001b[1;33m.\u001b[0m\u001b[0msleep\u001b[0m\u001b[1;33m(\u001b[0m\u001b[1;36m1\u001b[0m\u001b[1;33m)\u001b[0m\u001b[1;33m\u001b[0m\u001b[1;33m\u001b[0m\u001b[0m\n\u001b[0m",
      "\u001b[1;31mKeyboardInterrupt\u001b[0m: "
     ]
    }
   ],
   "source": [
    "import schedule\n",
    "import pyautogui\n",
    "import time\n",
    "pyautogui.FAILSAFE=False\n",
    "\n",
    "def anscall():\n",
    "    \n",
    "    if pyautogui.pixelMatchesColor(1709, 972, (67, 169,  66)):\n",
    "        pyautogui.click(1709, 972)\n",
    "        \n",
    "        #play_file('CallAnswer.wav')\n",
    "        #time.sleep(30)\n",
    "        \n",
    "        #if pyautogui.pixelMatchesColor(1028, 641, (227,  66,  58)):\n",
    "        #    pyautogui.click(1028, 641)\n",
    "     \n",
    "#anscall()\n",
    "\n",
    "schedule.clear()\n",
    "schedule.every(10).seconds.do(anscall)\n",
    "while True:\n",
    "  \n",
    "    # Checks whether a scheduled task  \n",
    "    # is pending to run or not \n",
    "    schedule.run_pending()\n",
    "    time.sleep(1)"
   ]
  },
  {
   "cell_type": "code",
   "execution_count": 1,
   "metadata": {},
   "outputs": [],
   "source": [
    "import pyautogui\n",
    "import time\n",
    "import schedule\n",
    "\n",
    "def anscall():\n",
    "    #if pyautogui.pixelMatchesColor(1709, 972, (67, 169,  66)):\n",
    "    pyautogui.click(1709, 972)\n",
    "        \n",
    "    #play_file('CallAnswer.wav')\n",
    "    time.sleep(30)\n",
    "        \n",
    "    if pyautogui.pixelMatchesColor(1028, 641, (227,  66,  58)):\n",
    "        pyautogui.click(1028, 641)\n",
    "            \n",
    "pyautogui.FAILSAFE=False            \n",
    "if pyautogui.pixelMatchesColor(1709, 972, (67, 169,  66)):\n",
    "    schedule.clear()\n",
    "    schedule.every(10).seconds.do(anscall)\n",
    "    while True:\n",
    "\n",
    "        # Checks whether a scheduled task  \n",
    "        # is pending to run or not \n",
    "        schedule.run_pending()\n",
    "        time.sleep(1)"
   ]
  },
  {
   "cell_type": "code",
   "execution_count": null,
   "metadata": {},
   "outputs": [],
   "source": []
  }
 ],
 "metadata": {
  "kernelspec": {
   "display_name": "Python 3",
   "language": "python",
   "name": "python3"
  },
  "language_info": {
   "codemirror_mode": {
    "name": "ipython",
    "version": 3
   },
   "file_extension": ".py",
   "mimetype": "text/x-python",
   "name": "python",
   "nbconvert_exporter": "python",
   "pygments_lexer": "ipython3",
   "version": "3.7.7"
  }
 },
 "nbformat": 4,
 "nbformat_minor": 4
}
